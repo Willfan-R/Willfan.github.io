{
  "nbformat": 4,
  "nbformat_minor": 0,
  "metadata": {
    "colab": {
      "name": "test.ipynb",
      "provenance": [],
      "collapsed_sections": [],
      "mount_file_id": "1p1FueDEIgo502_ajYW03hZ0gq5CeYXPZ",
      "authorship_tag": "ABX9TyM3EYm7EZr1MMVVT+H47S8K",
      "include_colab_link": true
    },
    "kernelspec": {
      "name": "python3",
      "display_name": "Python 3"
    }
  },
  "cells": [
    {
      "cell_type": "markdown",
      "metadata": {
        "id": "view-in-github",
        "colab_type": "text"
      },
      "source": [
        "<a href=\"https://colab.research.google.com/github/Willfan-R/Willfan.github.io/blob/master/test.ipynb\" target=\"_parent\"><img src=\"https://colab.research.google.com/assets/colab-badge.svg\" alt=\"Open In Colab\"/></a>"
      ]
    },
    {
      "cell_type": "code",
      "metadata": {
        "id": "YqBGpVRAX1xd",
        "colab_type": "code",
        "outputId": "141bcc2b-6930-4b8b-d974-9286191329e2",
        "colab": {
          "base_uri": "https://localhost:8080/",
          "height": 71
        }
      },
      "source": [
        "class Pet(object):\n",
        "    \"\"\"Class object for a pet.\"\"\"\n",
        "  \n",
        "    def __init__(self, species, name):\n",
        "        \"\"\"Initialize a Pet.\"\"\"\n",
        "        self.species = species\n",
        "        self.name = name\n",
        " \n",
        "    def __str__(self):\n",
        "        \"\"\"Output when printing an instance of a Pet.\"\"\"\n",
        "        return f\"{self.species} named {self.name}\"\n",
        "        \n",
        "    def change_name(self, new_name):\n",
        "        \"\"\"Change the name of your Pet.\"\"\"\n",
        "        self.name = new_name\n",
        "        \n",
        "my_dog = Pet(species=\"dog\", \n",
        "             name=\"Scooby\")\n",
        "print (my_dog)\n",
        "print (my_dog.name)\n",
        "my_dog.change_name(\"moon\")\n",
        "print (my_dog.name)"
      ],
      "execution_count": 0,
      "outputs": [
        {
          "output_type": "stream",
          "text": [
            "dog named Scooby\n",
            "Scooby\n",
            "moon\n"
          ],
          "name": "stdout"
        }
      ]
    },
    {
      "cell_type": "code",
      "metadata": {
        "id": "e5l9-w96hSqJ",
        "colab_type": "code",
        "outputId": "7ccba632-162b-4381-eb82-428cda154718",
        "colab": {
          "base_uri": "https://localhost:8080/",
          "height": 1000
        }
      },
      "source": [
        "import numpy as np\n",
        "print (\"np.eye((4)):\\n\", np.eye((4))) \n",
        "print (\"np.zeros((3)):\\n\", np.zeros((2,2,2,2))) \n",
        "#print (\"np.zeros((imags zero)):\\n\", np.zeros((4,4,3,1))) \n",
        "#print (\"np.zeros((imags one)):\\n\", np.ones((4,4,3,1))) \n",
        "img0 = np.zeros((4,4,3,1))\n",
        "img1 = np.ones((4,4,3,1))\n",
        "np.concatenate((img0,img1),axis=3)"
      ],
      "execution_count": 0,
      "outputs": [
        {
          "output_type": "stream",
          "text": [
            "np.eye((4)):\n",
            " [[1. 0. 0. 0.]\n",
            " [0. 1. 0. 0.]\n",
            " [0. 0. 1. 0.]\n",
            " [0. 0. 0. 1.]]\n",
            "np.zeros((3)):\n",
            " [[[[0. 0.]\n",
            "   [0. 0.]]\n",
            "\n",
            "  [[0. 0.]\n",
            "   [0. 0.]]]\n",
            "\n",
            "\n",
            " [[[0. 0.]\n",
            "   [0. 0.]]\n",
            "\n",
            "  [[0. 0.]\n",
            "   [0. 0.]]]]\n"
          ],
          "name": "stdout"
        },
        {
          "output_type": "execute_result",
          "data": {
            "text/plain": [
              "array([[[[0., 1.],\n",
              "         [0., 1.],\n",
              "         [0., 1.]],\n",
              "\n",
              "        [[0., 1.],\n",
              "         [0., 1.],\n",
              "         [0., 1.]],\n",
              "\n",
              "        [[0., 1.],\n",
              "         [0., 1.],\n",
              "         [0., 1.]],\n",
              "\n",
              "        [[0., 1.],\n",
              "         [0., 1.],\n",
              "         [0., 1.]]],\n",
              "\n",
              "\n",
              "       [[[0., 1.],\n",
              "         [0., 1.],\n",
              "         [0., 1.]],\n",
              "\n",
              "        [[0., 1.],\n",
              "         [0., 1.],\n",
              "         [0., 1.]],\n",
              "\n",
              "        [[0., 1.],\n",
              "         [0., 1.],\n",
              "         [0., 1.]],\n",
              "\n",
              "        [[0., 1.],\n",
              "         [0., 1.],\n",
              "         [0., 1.]]],\n",
              "\n",
              "\n",
              "       [[[0., 1.],\n",
              "         [0., 1.],\n",
              "         [0., 1.]],\n",
              "\n",
              "        [[0., 1.],\n",
              "         [0., 1.],\n",
              "         [0., 1.]],\n",
              "\n",
              "        [[0., 1.],\n",
              "         [0., 1.],\n",
              "         [0., 1.]],\n",
              "\n",
              "        [[0., 1.],\n",
              "         [0., 1.],\n",
              "         [0., 1.]]],\n",
              "\n",
              "\n",
              "       [[[0., 1.],\n",
              "         [0., 1.],\n",
              "         [0., 1.]],\n",
              "\n",
              "        [[0., 1.],\n",
              "         [0., 1.],\n",
              "         [0., 1.]],\n",
              "\n",
              "        [[0., 1.],\n",
              "         [0., 1.],\n",
              "         [0., 1.]],\n",
              "\n",
              "        [[0., 1.],\n",
              "         [0., 1.],\n",
              "         [0., 1.]]]])"
            ]
          },
          "metadata": {
            "tags": []
          },
          "execution_count": 1
        }
      ]
    },
    {
      "cell_type": "code",
      "metadata": {
        "id": "P6QGcfCznHcd",
        "colab_type": "code",
        "outputId": "7475d37d-9d4a-404c-c9d1-c2b74d60927f",
        "colab": {
          "base_uri": "https://localhost:8080/",
          "height": 107
        }
      },
      "source": [
        "# axis 0,1\n",
        "\n",
        "\n",
        "# Sum across a dimension\n",
        "x = np.array([[1,2],[3,4]])\n",
        "print (x)\n",
        "print (\"sum all: \", np.sum(x)) # adds all elements\n",
        "print (\"sum axis=0: \", np.sum(x, axis=0)) # sum across rows\n",
        "print (\"sum axis=1: \", np.sum(x, axis=1)) # sum across columns"
      ],
      "execution_count": 0,
      "outputs": [
        {
          "output_type": "stream",
          "text": [
            "[[1 2]\n",
            " [3 4]]\n",
            "sum all:  10\n",
            "sum axis=0:  [4 6]\n",
            "sum axis=1:  [3 7]\n"
          ],
          "name": "stdout"
        }
      ]
    },
    {
      "cell_type": "code",
      "metadata": {
        "id": "cv9BZ5is3Nbc",
        "colab_type": "code",
        "colab": {}
      },
      "source": [
        ""
      ],
      "execution_count": 0,
      "outputs": []
    },
    {
      "cell_type": "code",
      "metadata": {
        "id": "si9YuNr9q_xs",
        "colab_type": "code",
        "outputId": "7f01728f-0042-4d5d-e513-a3471e00a520",
        "colab": {
          "base_uri": "https://localhost:8080/",
          "height": 197
        }
      },
      "source": [
        "# Removing dimensions\n",
        "x = np.array([[[1,2,3]],[[4,5,6]]])\n",
        "x1 = np.array([[1,2,3],[4,5,6]])\n",
        "print (\"x1.shape: \", x1.shape)\n",
        "print (\"x:\\n\", x)\n",
        "print (\"x.shape: \", x.shape)\n",
        "y = np.squeeze(x, 1) # squeeze dim 1\n",
        "print (\"y: \\n\", y)\n",
        "print (\"y.shape: \", y.shape)  # notice extra set of brackets are gone"
      ],
      "execution_count": 0,
      "outputs": [
        {
          "output_type": "stream",
          "text": [
            "x1.shape:  (2, 3)\n",
            "x:\n",
            " [[[1 2 3]]\n",
            "\n",
            " [[4 5 6]]]\n",
            "x.shape:  (2, 1, 3)\n",
            "y: \n",
            " [[1 2 3]\n",
            " [4 5 6]]\n",
            "y.shape:  (2, 3)\n"
          ],
          "name": "stdout"
        }
      ]
    },
    {
      "cell_type": "code",
      "metadata": {
        "id": "ngBhVuOAubRM",
        "colab_type": "code",
        "outputId": "0081eca2-bae7-435c-e88a-84c703d59df2",
        "colab": {
          "base_uri": "https://localhost:8080/",
          "height": 71
        }
      },
      "source": [
        "import pandas as pd\n",
        "import urllib\n",
        "np.random.seed(seed=1234)\n",
        "url = 'https://raw.githubusercontent.com/madewithml/lessons/master/data/titanic.csv'\n",
        "response = urllib.request.urlopen(url)\n",
        "html = response.read()\n",
        "with open('titanic.csv', 'wb') as f:\n",
        "    f.write(html)\n",
        "!ls -l\n"
      ],
      "execution_count": 0,
      "outputs": [
        {
          "output_type": "stream",
          "text": [
            "total 88\n",
            "drwxr-xr-x 1 root root  4096 Mar 18 16:23 sample_data\n",
            "-rw-r--r-- 1 root root 85153 Mar 26 07:25 titanic.csv\n"
          ],
          "name": "stdout"
        }
      ]
    },
    {
      "cell_type": "code",
      "metadata": {
        "id": "DpTtxWh7u4V5",
        "colab_type": "code",
        "outputId": "e28c22a1-dcf6-458f-8a5e-ad7ddc1c7b68",
        "colab": {
          "base_uri": "https://localhost:8080/",
          "height": 204
        }
      },
      "source": [
        "df = pd.read_csv(\"titanic.csv\",header=0)\n",
        "df.head()"
      ],
      "execution_count": 0,
      "outputs": [
        {
          "output_type": "execute_result",
          "data": {
            "text/html": [
              "<div>\n",
              "<style scoped>\n",
              "    .dataframe tbody tr th:only-of-type {\n",
              "        vertical-align: middle;\n",
              "    }\n",
              "\n",
              "    .dataframe tbody tr th {\n",
              "        vertical-align: top;\n",
              "    }\n",
              "\n",
              "    .dataframe thead th {\n",
              "        text-align: right;\n",
              "    }\n",
              "</style>\n",
              "<table border=\"1\" class=\"dataframe\">\n",
              "  <thead>\n",
              "    <tr style=\"text-align: right;\">\n",
              "      <th></th>\n",
              "      <th>pclass</th>\n",
              "      <th>name</th>\n",
              "      <th>sex</th>\n",
              "      <th>age</th>\n",
              "      <th>sibsp</th>\n",
              "      <th>parch</th>\n",
              "      <th>ticket</th>\n",
              "      <th>fare</th>\n",
              "      <th>cabin</th>\n",
              "      <th>embarked</th>\n",
              "      <th>survived</th>\n",
              "    </tr>\n",
              "  </thead>\n",
              "  <tbody>\n",
              "    <tr>\n",
              "      <th>0</th>\n",
              "      <td>1</td>\n",
              "      <td>Allen, Miss. Elisabeth Walton</td>\n",
              "      <td>female</td>\n",
              "      <td>29.0000</td>\n",
              "      <td>0</td>\n",
              "      <td>0</td>\n",
              "      <td>24160</td>\n",
              "      <td>211.3375</td>\n",
              "      <td>B5</td>\n",
              "      <td>S</td>\n",
              "      <td>1</td>\n",
              "    </tr>\n",
              "    <tr>\n",
              "      <th>1</th>\n",
              "      <td>1</td>\n",
              "      <td>Allison, Master. Hudson Trevor</td>\n",
              "      <td>male</td>\n",
              "      <td>0.9167</td>\n",
              "      <td>1</td>\n",
              "      <td>2</td>\n",
              "      <td>113781</td>\n",
              "      <td>151.5500</td>\n",
              "      <td>C22 C26</td>\n",
              "      <td>S</td>\n",
              "      <td>1</td>\n",
              "    </tr>\n",
              "    <tr>\n",
              "      <th>2</th>\n",
              "      <td>1</td>\n",
              "      <td>Allison, Miss. Helen Loraine</td>\n",
              "      <td>female</td>\n",
              "      <td>2.0000</td>\n",
              "      <td>1</td>\n",
              "      <td>2</td>\n",
              "      <td>113781</td>\n",
              "      <td>151.5500</td>\n",
              "      <td>C22 C26</td>\n",
              "      <td>S</td>\n",
              "      <td>0</td>\n",
              "    </tr>\n",
              "    <tr>\n",
              "      <th>3</th>\n",
              "      <td>1</td>\n",
              "      <td>Allison, Mr. Hudson Joshua Creighton</td>\n",
              "      <td>male</td>\n",
              "      <td>30.0000</td>\n",
              "      <td>1</td>\n",
              "      <td>2</td>\n",
              "      <td>113781</td>\n",
              "      <td>151.5500</td>\n",
              "      <td>C22 C26</td>\n",
              "      <td>S</td>\n",
              "      <td>0</td>\n",
              "    </tr>\n",
              "    <tr>\n",
              "      <th>4</th>\n",
              "      <td>1</td>\n",
              "      <td>Allison, Mrs. Hudson J C (Bessie Waldo Daniels)</td>\n",
              "      <td>female</td>\n",
              "      <td>25.0000</td>\n",
              "      <td>1</td>\n",
              "      <td>2</td>\n",
              "      <td>113781</td>\n",
              "      <td>151.5500</td>\n",
              "      <td>C22 C26</td>\n",
              "      <td>S</td>\n",
              "      <td>0</td>\n",
              "    </tr>\n",
              "  </tbody>\n",
              "</table>\n",
              "</div>"
            ],
            "text/plain": [
              "   pclass                                             name  ... embarked  survived\n",
              "0       1                    Allen, Miss. Elisabeth Walton  ...        S         1\n",
              "1       1                   Allison, Master. Hudson Trevor  ...        S         1\n",
              "2       1                     Allison, Miss. Helen Loraine  ...        S         0\n",
              "3       1             Allison, Mr. Hudson Joshua Creighton  ...        S         0\n",
              "4       1  Allison, Mrs. Hudson J C (Bessie Waldo Daniels)  ...        S         0\n",
              "\n",
              "[5 rows x 11 columns]"
            ]
          },
          "metadata": {
            "tags": []
          },
          "execution_count": 30
        }
      ]
    },
    {
      "cell_type": "code",
      "metadata": {
        "id": "kJgm9GdFvigL",
        "colab_type": "code",
        "outputId": "c6a4e9a0-c872-4be2-8cb4-30c0fe8ad67a",
        "colab": {
          "base_uri": "https://localhost:8080/",
          "height": 209
        }
      },
      "source": [
        "df1 = pd.read_csv(\"titanic.csv\",header=1)\n",
        "df1.head()\n",
        "print(help(df.describe()))"
      ],
      "execution_count": 0,
      "outputs": [
        {
          "output_type": "error",
          "ename": "NameError",
          "evalue": "ignored",
          "traceback": [
            "\u001b[0;31m---------------------------------------------------------------------------\u001b[0m",
            "\u001b[0;31mNameError\u001b[0m                                 Traceback (most recent call last)",
            "\u001b[0;32m<ipython-input-1-423cdbf220dc>\u001b[0m in \u001b[0;36m<module>\u001b[0;34m()\u001b[0m\n\u001b[0;32m----> 1\u001b[0;31m \u001b[0mdf1\u001b[0m \u001b[0;34m=\u001b[0m \u001b[0mpd\u001b[0m\u001b[0;34m.\u001b[0m\u001b[0mread_csv\u001b[0m\u001b[0;34m(\u001b[0m\u001b[0;34m\"titanic.csv\"\u001b[0m\u001b[0;34m,\u001b[0m\u001b[0mheader\u001b[0m\u001b[0;34m=\u001b[0m\u001b[0;36m1\u001b[0m\u001b[0;34m)\u001b[0m\u001b[0;34m\u001b[0m\u001b[0;34m\u001b[0m\u001b[0m\n\u001b[0m\u001b[1;32m      2\u001b[0m \u001b[0mdf1\u001b[0m\u001b[0;34m.\u001b[0m\u001b[0mhead\u001b[0m\u001b[0;34m(\u001b[0m\u001b[0;34m)\u001b[0m\u001b[0;34m\u001b[0m\u001b[0;34m\u001b[0m\u001b[0m\n\u001b[1;32m      3\u001b[0m \u001b[0mprint\u001b[0m\u001b[0;34m(\u001b[0m\u001b[0mhelp\u001b[0m\u001b[0;34m(\u001b[0m\u001b[0mdf\u001b[0m\u001b[0;34m.\u001b[0m\u001b[0mdescribe\u001b[0m\u001b[0;34m(\u001b[0m\u001b[0;34m)\u001b[0m\u001b[0;34m)\u001b[0m\u001b[0;34m)\u001b[0m\u001b[0;34m\u001b[0m\u001b[0;34m\u001b[0m\u001b[0m\n",
            "\u001b[0;31mNameError\u001b[0m: name 'pd' is not defined"
          ]
        }
      ]
    },
    {
      "cell_type": "code",
      "metadata": {
        "id": "Khk4ax9rDISL",
        "colab_type": "code",
        "outputId": "eaae6a6c-9f0c-4082-c7b0-21dfdd2c6860",
        "colab": {
          "base_uri": "https://localhost:8080/",
          "height": 53
        }
      },
      "source": [
        "import math\n",
        "print(math.pow(100,10))\n",
        "print(1.1**7)"
      ],
      "execution_count": 0,
      "outputs": [
        {
          "output_type": "stream",
          "text": [
            "1e+20\n",
            "1.9487171000000012\n"
          ],
          "name": "stdout"
        }
      ]
    },
    {
      "cell_type": "code",
      "metadata": {
        "id": "tilsMJMd3xJ9",
        "colab_type": "code",
        "outputId": "856294b2-65a8-4098-9980-56905a3b9b3c",
        "colab": {
          "base_uri": "https://localhost:8080/",
          "height": 1000
        }
      },
      "source": [
        "import tensorflow as tf\n",
        "import cv2 \n",
        "img = cv2.imread(\"test_img_1.png\")\n",
        "print(img.shape)\n",
        "print(img)\n",
        "\n",
        "imgResize = cv2.resize(img,(32,32))\n",
        "print(\"=====================\")\n",
        "print(imgResize.shape)\n",
        "print(imgResize)\n"
      ],
      "execution_count": 0,
      "outputs": [
        {
          "output_type": "stream",
          "text": [
            "(148, 148, 3)\n",
            "[[[182 137  80]\n",
            "  [182 137  80]\n",
            "  [182 137  80]\n",
            "  ...\n",
            "  [173 131  84]\n",
            "  [173 131  84]\n",
            "  [173 131  84]]\n",
            "\n",
            " [[182 137  80]\n",
            "  [182 137  80]\n",
            "  [182 137  80]\n",
            "  ...\n",
            "  [173 131  84]\n",
            "  [173 131  84]\n",
            "  [173 131  84]]\n",
            "\n",
            " [[182 137  80]\n",
            "  [182 137  80]\n",
            "  [182 137  80]\n",
            "  ...\n",
            "  [173 131  84]\n",
            "  [173 131  84]\n",
            "  [173 131  84]]\n",
            "\n",
            " ...\n",
            "\n",
            " [[217 188 144]\n",
            "  [217 188 144]\n",
            "  [217 188 144]\n",
            "  ...\n",
            "  [222 184 149]\n",
            "  [222 184 149]\n",
            "  [222 184 149]]\n",
            "\n",
            " [[217 188 144]\n",
            "  [217 188 144]\n",
            "  [217 188 144]\n",
            "  ...\n",
            "  [222 184 149]\n",
            "  [222 184 149]\n",
            "  [222 184 149]]\n",
            "\n",
            " [[217 188 144]\n",
            "  [217 188 144]\n",
            "  [217 188 144]\n",
            "  ...\n",
            "  [222 184 149]\n",
            "  [222 184 149]\n",
            "  [222 184 149]]]\n",
            "=====================\n",
            "(32, 32, 3)\n",
            "[[[182 137  80]\n",
            "  [184 137  84]\n",
            "  [188 141  87]\n",
            "  ...\n",
            "  [187 136  86]\n",
            "  [178 132  85]\n",
            "  [173 131  84]]\n",
            "\n",
            " [[185 139  85]\n",
            "  [188 141  87]\n",
            "  [190 143  89]\n",
            "  ...\n",
            "  [191 141  89]\n",
            "  [183 136  88]\n",
            "  [178 134  87]]\n",
            "\n",
            " [[188 140  88]\n",
            "  [189 141  89]\n",
            "  [192 145  91]\n",
            "  ...\n",
            "  [191 144  90]\n",
            "  [188 141  90]\n",
            "  [183 138  87]]\n",
            "\n",
            " ...\n",
            "\n",
            " [[224 187 137]\n",
            "  [226 188 140]\n",
            "  [228 189 144]\n",
            "  ...\n",
            "  [232 191 146]\n",
            "  [226 187 143]\n",
            "  [224 185 141]]\n",
            "\n",
            " [[221 186 141]\n",
            "  [222 189 142]\n",
            "  [225 190 146]\n",
            "  ...\n",
            "  [226 191 147]\n",
            "  [223 187 147]\n",
            "  [224 185 146]]\n",
            "\n",
            " [[217 188 144]\n",
            "  [221 189 146]\n",
            "  [224 190 147]\n",
            "  ...\n",
            "  [225 190 150]\n",
            "  [224 188 150]\n",
            "  [222 184 149]]]\n"
          ],
          "name": "stdout"
        }
      ]
    },
    {
      "cell_type": "code",
      "metadata": {
        "id": "QwTF1ZK91mrq",
        "colab_type": "code",
        "outputId": "76cee9b1-4c6b-4780-97b3-ae87b3d3b256",
        "colab": {
          "base_uri": "https://localhost:8080/",
          "height": 1000
        }
      },
      "source": [
        "print(\"===================== addAxis\")\n",
        "imgaddAxis = imgResize[:,:,:,np.newaxis]\n",
        "imgaddAxis\n"
      ],
      "execution_count": 0,
      "outputs": [
        {
          "output_type": "stream",
          "text": [
            "===================== addAxis\n"
          ],
          "name": "stdout"
        },
        {
          "output_type": "execute_result",
          "data": {
            "text/plain": [
              "array([[[[182],\n",
              "         [137],\n",
              "         [ 80]],\n",
              "\n",
              "        [[184],\n",
              "         [137],\n",
              "         [ 84]],\n",
              "\n",
              "        [[188],\n",
              "         [141],\n",
              "         [ 87]],\n",
              "\n",
              "        ...,\n",
              "\n",
              "        [[187],\n",
              "         [136],\n",
              "         [ 86]],\n",
              "\n",
              "        [[178],\n",
              "         [132],\n",
              "         [ 85]],\n",
              "\n",
              "        [[173],\n",
              "         [131],\n",
              "         [ 84]]],\n",
              "\n",
              "\n",
              "       [[[185],\n",
              "         [139],\n",
              "         [ 85]],\n",
              "\n",
              "        [[188],\n",
              "         [141],\n",
              "         [ 87]],\n",
              "\n",
              "        [[190],\n",
              "         [143],\n",
              "         [ 89]],\n",
              "\n",
              "        ...,\n",
              "\n",
              "        [[191],\n",
              "         [141],\n",
              "         [ 89]],\n",
              "\n",
              "        [[183],\n",
              "         [136],\n",
              "         [ 88]],\n",
              "\n",
              "        [[178],\n",
              "         [134],\n",
              "         [ 87]]],\n",
              "\n",
              "\n",
              "       [[[188],\n",
              "         [140],\n",
              "         [ 88]],\n",
              "\n",
              "        [[189],\n",
              "         [141],\n",
              "         [ 89]],\n",
              "\n",
              "        [[192],\n",
              "         [145],\n",
              "         [ 91]],\n",
              "\n",
              "        ...,\n",
              "\n",
              "        [[191],\n",
              "         [144],\n",
              "         [ 90]],\n",
              "\n",
              "        [[188],\n",
              "         [141],\n",
              "         [ 90]],\n",
              "\n",
              "        [[183],\n",
              "         [138],\n",
              "         [ 87]]],\n",
              "\n",
              "\n",
              "       ...,\n",
              "\n",
              "\n",
              "       [[[224],\n",
              "         [187],\n",
              "         [137]],\n",
              "\n",
              "        [[226],\n",
              "         [188],\n",
              "         [140]],\n",
              "\n",
              "        [[228],\n",
              "         [189],\n",
              "         [144]],\n",
              "\n",
              "        ...,\n",
              "\n",
              "        [[232],\n",
              "         [191],\n",
              "         [146]],\n",
              "\n",
              "        [[226],\n",
              "         [187],\n",
              "         [143]],\n",
              "\n",
              "        [[224],\n",
              "         [185],\n",
              "         [141]]],\n",
              "\n",
              "\n",
              "       [[[221],\n",
              "         [186],\n",
              "         [141]],\n",
              "\n",
              "        [[222],\n",
              "         [189],\n",
              "         [142]],\n",
              "\n",
              "        [[225],\n",
              "         [190],\n",
              "         [146]],\n",
              "\n",
              "        ...,\n",
              "\n",
              "        [[226],\n",
              "         [191],\n",
              "         [147]],\n",
              "\n",
              "        [[223],\n",
              "         [187],\n",
              "         [147]],\n",
              "\n",
              "        [[224],\n",
              "         [185],\n",
              "         [146]]],\n",
              "\n",
              "\n",
              "       [[[217],\n",
              "         [188],\n",
              "         [144]],\n",
              "\n",
              "        [[221],\n",
              "         [189],\n",
              "         [146]],\n",
              "\n",
              "        [[224],\n",
              "         [190],\n",
              "         [147]],\n",
              "\n",
              "        ...,\n",
              "\n",
              "        [[225],\n",
              "         [190],\n",
              "         [150]],\n",
              "\n",
              "        [[224],\n",
              "         [188],\n",
              "         [150]],\n",
              "\n",
              "        [[222],\n",
              "         [184],\n",
              "         [149]]]], dtype=uint8)"
            ]
          },
          "metadata": {
            "tags": []
          },
          "execution_count": 20
        }
      ]
    },
    {
      "cell_type": "code",
      "metadata": {
        "id": "rWl9277N1zVD",
        "colab_type": "code",
        "outputId": "f4a0c3e7-d07c-4116-9279-265a89ebfa6e",
        "colab": {
          "base_uri": "https://localhost:8080/",
          "height": 173
        }
      },
      "source": [
        "imgs = np.zeros([32,32,3,1])\n"
      ],
      "execution_count": 0,
      "outputs": [
        {
          "output_type": "error",
          "ename": "NameError",
          "evalue": "ignored",
          "traceback": [
            "\u001b[0;31m---------------------------------------------------------------------------\u001b[0m",
            "\u001b[0;31mNameError\u001b[0m                                 Traceback (most recent call last)",
            "\u001b[0;32m<ipython-input-3-98a4a44e9125>\u001b[0m in \u001b[0;36m<module>\u001b[0;34m()\u001b[0m\n\u001b[0;32m----> 1\u001b[0;31m \u001b[0mimgs\u001b[0m \u001b[0;34m=\u001b[0m \u001b[0mnp\u001b[0m\u001b[0;34m.\u001b[0m\u001b[0mzeros\u001b[0m\u001b[0;34m(\u001b[0m\u001b[0;34m[\u001b[0m\u001b[0;36m32\u001b[0m\u001b[0;34m,\u001b[0m\u001b[0;36m32\u001b[0m\u001b[0;34m,\u001b[0m\u001b[0;36m3\u001b[0m\u001b[0;34m,\u001b[0m\u001b[0;36m1\u001b[0m\u001b[0;34m]\u001b[0m\u001b[0;34m)\u001b[0m\u001b[0;34m\u001b[0m\u001b[0;34m\u001b[0m\u001b[0m\n\u001b[0m",
            "\u001b[0;31mNameError\u001b[0m: name 'np' is not defined"
          ]
        }
      ]
    },
    {
      "cell_type": "code",
      "metadata": {
        "id": "Wd1dwual18Aq",
        "colab_type": "code",
        "outputId": "803e21bf-1670-4e9e-b943-cbff20b98b39",
        "colab": {
          "base_uri": "https://localhost:8080/",
          "height": 209
        }
      },
      "source": [
        "imgSum = np.concatenate((imgs,imgaddAxis),axis=3)\n",
        "imgSum = imgSum.astype(np.float32)/255.\n",
        "imgSum "
      ],
      "execution_count": 0,
      "outputs": [
        {
          "output_type": "error",
          "ename": "NameError",
          "evalue": "ignored",
          "traceback": [
            "\u001b[0;31m---------------------------------------------------------------------------\u001b[0m",
            "\u001b[0;31mNameError\u001b[0m                                 Traceback (most recent call last)",
            "\u001b[0;32m<ipython-input-4-de3b344b1dcd>\u001b[0m in \u001b[0;36m<module>\u001b[0;34m()\u001b[0m\n\u001b[0;32m----> 1\u001b[0;31m \u001b[0mimgSum\u001b[0m \u001b[0;34m=\u001b[0m \u001b[0mnp\u001b[0m\u001b[0;34m.\u001b[0m\u001b[0mconcatenate\u001b[0m\u001b[0;34m(\u001b[0m\u001b[0;34m(\u001b[0m\u001b[0mimgs\u001b[0m\u001b[0;34m,\u001b[0m\u001b[0mimgaddAxis\u001b[0m\u001b[0;34m)\u001b[0m\u001b[0;34m,\u001b[0m\u001b[0maxis\u001b[0m\u001b[0;34m=\u001b[0m\u001b[0;36m3\u001b[0m\u001b[0;34m)\u001b[0m\u001b[0;34m\u001b[0m\u001b[0;34m\u001b[0m\u001b[0m\n\u001b[0m\u001b[1;32m      2\u001b[0m \u001b[0mimgSum\u001b[0m \u001b[0;34m=\u001b[0m \u001b[0mimgSum\u001b[0m\u001b[0;34m.\u001b[0m\u001b[0mastype\u001b[0m\u001b[0;34m(\u001b[0m\u001b[0mnp\u001b[0m\u001b[0;34m.\u001b[0m\u001b[0mfloat32\u001b[0m\u001b[0;34m)\u001b[0m\u001b[0;34m/\u001b[0m\u001b[0;36m255.\u001b[0m\u001b[0;34m\u001b[0m\u001b[0;34m\u001b[0m\u001b[0m\n\u001b[1;32m      3\u001b[0m \u001b[0mimgSum\u001b[0m\u001b[0;34m\u001b[0m\u001b[0;34m\u001b[0m\u001b[0m\n",
            "\u001b[0;31mNameError\u001b[0m: name 'np' is not defined"
          ]
        }
      ]
    },
    {
      "cell_type": "code",
      "metadata": {
        "id": "weHuhsdSvChF",
        "colab_type": "code",
        "outputId": "a7998725-997a-4558-e615-cd794b240345",
        "colab": {
          "base_uri": "https://localhost:8080/",
          "height": 153
        }
      },
      "source": [
        "import pandas as pd\n",
        "import numpy as np\n",
        "from numpy import nan as NA\n",
        "\n",
        "obj = pd.Series(np.arange(5.), index=['a', 'b', 'c', 'd', 'e'])\n",
        "obj.drop('c')\n",
        "randomdata = np.random.randn(7,3)\n",
        "df = pd.DataFrame(randomdata)\n",
        "df.iloc[:4,1] = NA\n",
        "df.iloc[:2,2] = NA\n",
        "print(df)\n",
        "df1 = df.dropna()\n",
        "df1\n",
        "\n",
        "arr = np.array([\n",
        "    [1, 2, 3, 4],\n",
        "    [2, 4, 6, 8],\n",
        "    [3, 6, 9, 12],\n",
        "    [4, 8, 12, 16]\n",
        "])\n",
        "arr"
      ],
      "execution_count": 0,
      "outputs": [
        {
          "output_type": "stream",
          "text": [
            "          0         1         2\n",
            "0 -0.919720       NaN       NaN\n",
            "1  0.893021       NaN       NaN\n",
            "2  0.917380       NaN -1.211138\n",
            "3 -2.899877       NaN  0.623915\n",
            "4  0.381910 -2.986009  0.428994\n",
            "5  1.502329 -0.102162  0.008371\n",
            "6  0.778272  1.512410  0.112049\n"
          ],
          "name": "stdout"
        }
      ]
    },
    {
      "cell_type": "code",
      "metadata": {
        "id": "GFVGE5Ql0kJ8",
        "colab_type": "code",
        "outputId": "52325d17-ad1a-472a-bc7b-8da95c45b7b3",
        "colab": {
          "base_uri": "https://localhost:8080/",
          "height": 34
        }
      },
      "source": [
        "import numpy as np\n",
        "\n",
        "arr = np.array([\n",
        "    [1, 2, 3, 4],\n",
        "    [2, 4, 6, 8],\n",
        "    [3, 6, 9, 12],\n",
        "    [4, 8, 12, 16]\n",
        "])\n",
        "arr\n",
        "\n",
        "print(arr[[0, 2], [3, 1]])"
      ],
      "execution_count": 0,
      "outputs": [
        {
          "output_type": "stream",
          "text": [
            "[4 6]\n"
          ],
          "name": "stdout"
        }
      ]
    }
  ]
}